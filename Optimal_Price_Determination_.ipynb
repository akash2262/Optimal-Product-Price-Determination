{
  "nbformat": 4,
  "nbformat_minor": 0,
  "metadata": {
    "colab": {
      "provenance": []
    },
    "kernelspec": {
      "name": "python3",
      "display_name": "Python 3"
    },
    "language_info": {
      "name": "python"
    }
  },
  "cells": [
    {
      "cell_type": "markdown",
      "source": [
        "Suppose a customer has 2 choices : product 1 , product 2. Suppose the choices are mutually exclusive .\n",
        "\n",
        "HOW DO THE COMPANY SET THE PRICES OF THE PRODUCTS SO THAT IT'S PROFIT IS MAXIMIZED\n",
        "\n",
        "MAXIMIZE PROFIT\n",
        "VOLUME of product 1 = EXPOSURE * EXP(-ALPHA* P)/EXP(-ALPHA* P)+EXP(-BETA*Q)\n",
        "\n",
        "Vlume of product 2 = Exposure * EXP(-BETA*  Q)/EXP(-ALPHA* P)+EXP(-BETA*Q)\n",
        "\n",
        "p= price of product 1 , q = price of product 2\n",
        "\n",
        "Profit= Revenue-Total Cost\n",
        "\n",
        "Revenue = Price * Volume\n",
        "\n",
        "Total Cost = Unit * Volume"
      ],
      "metadata": {
        "id": "cQcaJJVu9QNM"
      }
    },
    {
      "cell_type": "code",
      "source": [
        "pip install pulp"
      ],
      "metadata": {
        "colab": {
          "base_uri": "https://localhost:8080/"
        },
        "id": "4N9NG595F5QL",
        "outputId": "3d266336-d164-4078-aed0-8b67b43a03f8"
      },
      "execution_count": 15,
      "outputs": [
        {
          "output_type": "stream",
          "name": "stdout",
          "text": [
            "Requirement already satisfied: pulp in /usr/local/lib/python3.10/dist-packages (2.8.0)\n"
          ]
        }
      ]
    },
    {
      "cell_type": "code",
      "source": [
        "from scipy.optimize import minimize\n",
        "\n",
        "# Set the constants\n",
        "alpha = 0.05 # parameter of the price volume model\n",
        "beta = 0.1 # parameter of the price volume model\n",
        "u_1 = 15   #cost of making one extra product 1\n",
        "u_2 = 20 #cost of making 1 extra product 2\n",
        "c_1 = 100 #fixed cost of making product1\n",
        "c_2 = 125 #fixed cost of making product 2\n",
        "exposure = 1000\n",
        "\n",
        "# Define the objective function\n",
        "def objective_function(variables):\n",
        "    p, q = variables\n",
        "    v_1 = exposure * math.exp(-alpha * p) / (math.exp(-alpha * p) + math.exp(-beta * q) + 1)\n",
        "    v_2 = exposure * math.exp(-beta * q) / (math.exp(-alpha * p) + math.exp(-beta * q) + 1)\n",
        "    profit = (p * v_1 + q * v_2) - (u_1 * v_1 + c_1 + u_2 * v_2 + c_2)\n",
        "    return -profit  # Minimize the negative of profit\n",
        "\n",
        "# Define constraints\n",
        "constraints = [\n",
        "    {'type': 'ineq', 'fun': lambda variables: 130 - exposure * math.exp(-alpha * variables[0]) / (math.exp(-alpha * variables[0]) + math.exp(-beta * variables[1]) + 1)},\n",
        "    {'type': 'ineq', 'fun': lambda variables: 20 - exposure * math.exp(-beta * variables[1]) / (math.exp(-alpha * variables[0]) + math.exp(-beta * variables[1]) + 1)}\n",
        "]\n",
        "\n",
        "# Initial guess\n",
        "initial_guess = [0, 0]\n",
        "\n",
        "# Solve the optimization problem\n",
        "result = minimize(objective_function, initial_guess, constraints=constraints)\n",
        "\n",
        "# Print the results\n",
        "print(\"Optimal values:\")\n",
        "print(f\"p = {result.x[0]}\")\n",
        "print(f\"q = {result.x[1]}\")\n",
        "print(f\"Profit = {-result.fun}\")\n"
      ],
      "metadata": {
        "colab": {
          "base_uri": "https://localhost:8080/"
        },
        "id": "00vgvrroGk1O",
        "outputId": "6dad3270-7adc-4179-e572-ac7fdbbb8249"
      },
      "execution_count": 18,
      "outputs": [
        {
          "output_type": "stream",
          "name": "stdout",
          "text": [
            "Optimal values:\n",
            "p = 38.01917503841292\n",
            "q = 192.4659410763439\n",
            "Profit = 2767.4934246861885\n"
          ]
        }
      ]
    }
  ]
}